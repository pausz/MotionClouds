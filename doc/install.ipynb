{
 "metadata": {
  "name": "",
  "signature": "sha256:80e9f63dcab4240313cdeaeca5e2575e4f205ccfae12417b207357837b43d96d"
 },
 "nbformat": 3,
 "nbformat_minor": 0,
 "worksheets": [
  {
   "cells": [
    {
     "cell_type": "markdown",
     "metadata": {},
     "source": [
      "This page covers the installation of the MotionClouds library.\n",
      "\n",
      "This library depends on a number of dependencies, among which ``numpy`` is the only that is mandatory.\n",
      "\n",
      "<!-- TEASER_END -->\n",
      "\n",
      "The file\n",
      "\n",
      "https://raw.githubusercontent.com/NeuralEnsemble/MotionClouds/master/INSTALL.md\n",
      "\n",
      "Contains installation instructions."
     ]
    },
    {
     "cell_type": "code",
     "collapsed": false,
     "input": [
      "%cd .."
     ],
     "language": "python",
     "metadata": {},
     "outputs": [
      {
       "output_type": "stream",
       "stream": "stdout",
       "text": [
        "/Users/lolo/Dropbox/science/MotionClouds\n"
       ]
      }
     ],
     "prompt_number": 1
    },
    {
     "cell_type": "code",
     "collapsed": false,
     "input": [
      "%load INSTALL.md"
     ],
     "language": "python",
     "metadata": {},
     "outputs": [],
     "prompt_number": 2
    },
    {
     "cell_type": "markdown",
     "metadata": {},
     "source": [
      "# MotionClouds: installing and running the python scripts\n",
      "\n",
      "MotionClouds are parameterized stimuli with controlled motion content and no spatial coherence.  They are precisely tuned in the frequency space.\n",
      "\n",
      "* A full description can be found in Paula S. Leon, Ivo Vanzetta, Guillaume S. Masson, Laurent U. Perrinet. Motion Clouds: Model-based stimulus synthesis of natural-like random textures for the study of motion perception, URL . Journal of Neurophysiology, 107(11):3217--3226, 2012, see  http://www.ncbi.nlm.nih.gov/pubmed/22423003 or http://jn.physiology.org/content/107/11/3217 .\n",
      "\n",
      "## installing and running the python scripts\n",
      "This package consists of:\n",
      "* ```MotionClouds.py``` : the API with all the math and display routines,\n",
      "* ```test_*.py``` : different types of stimuli are tested,\n",
      "* ```experiment_*py``` : different experiments.\n",
      "* ```fig_*py``` : different scripts used to generate wiki pages.\n",
      "* ```figures``` : resulting figures of tests and experiments (as set in the variable ```MotionClouds.figpath```.\n",
      "* ```Makefile``` : a GNUmake file to edit files ```make edit```, generate figures ```make figures``` or compile the documentation ```make doc```.\n",
      "\n",
      "## Installation\n",
      "\n",
      "*   MotionClouds consist of a one-file python script: Installation consists simply in downloading the ```MotionClouds.py``` file which contains all routines to compute and use the MotionClouds textures. This script uses python (http://python.org) which comes (pre-installed /  easy to download and install) on many operating systems.\n",
      "\n",
      "* MotionClouds may easily be installed using\n",
      "\n",
      "```\n",
      "    pip install MotionClouds\n",
      "```\n",
      "\n",
      "* Other solutions consist to simply grab this file at: https://raw.githubusercontent.com/NeuralEnsemble/MotionClouds/master/MotionClouds.py and to use it along with the examples.\n",
      "\n",
      "* Installation has some dependencies:\n",
      " 1. mandatory: ```numpy``` is the core library used to compute textures,\n",
      " 1. optional: ```mayavi``` is used to visualize envelopes,\n",
      " 1. optional: ```ffmpeg``` is used to generate movies.\n",
      " 1. optional: ```matplotlib```, ```scipy``` (with PIL support) and ```imagemagick``` are used to generate figures in the documentation.\n",
      " 1. optional: ```progressbar``` for displaying progress of encoding.\n",
      " 1. optional: ```texlive-latex-recommended  latexmk latexdiff``` to compile the documentation\n",
      " 1. optional: ```PyOpenGL PyOpenGL_accelerate glumpy``` to display MotionClouds online\n",
      "\n",
      "## download\n",
      "\n",
      "* to get the latest version, download the current state from the repository:\n",
      "```\n",
      "git clone https://github.com/meduz/MotionClouds.git\n",
      "```\n",
      "\n",
      "* other sources exist to get a stable release, such as ModelDb (http://senselab.med.yale.edu/modeldb/ShowModel.asp?model=146953).\n",
      "\n",
      "### installation using custom scripts\n",
      "\n",
      "* depending on your system you should use in a terminal window ```\n",
      "sh install_dependencies_debian.sh\n",
      "``` or ```\n",
      "sh install_dependencies_macosx.sh\n",
      "```\n",
      "* an alternative is to use a virtual machine such as for instance the one provided by the NeuroDebian team (http://neuro.debian.net/vm.html).\n"
     ]
    },
    {
     "cell_type": "markdown",
     "metadata": {},
     "source": [
      "## install on MacOsX"
     ]
    },
    {
     "cell_type": "markdown",
     "metadata": {},
     "source": [
      "An install script exists at :\n",
      "\n",
      "https://raw.githubusercontent.com/NeuralEnsemble/MotionClouds/master/install_dependencies_macosx.sh\n",
      "\n",
      "These line of code may be copy-and-pasted in your terminal."
     ]
    },
    {
     "cell_type": "code",
     "collapsed": false,
     "input": [
      "%load install_dependencies_macosx.sh"
     ],
     "language": "python",
     "metadata": {},
     "outputs": [],
     "prompt_number": 3
    },
    {
     "cell_type": "code",
     "collapsed": false,
     "input": [
      "%%bash\n",
      "#!/bin/bash\n",
      "\n",
      "# 1. install Xcode:\n",
      "# From this url : (uncomment the following line)\n",
      "# open http://itunes.apple.com/us/app/xcode/id497799835?mt=12\n",
      "# install Xcode on the Mac App Store by clicking on \u201cView in Mac App Store\u201d.\n",
      "\n",
      "# 2. install HomeBrew\n",
      "ruby -e \"$(curl -fsSL https://raw.github.com/Homebrew/homebrew/go/install)\"\n",
      "# to reinstall, do:\n",
      "# rm -rf /usr/local/Cellar /usr/local/.git && brew cleanup\n",
      "\n",
      "# Make sure we\u2019re using the latest Homebrew\n",
      "brew update\n",
      "\n",
      "# Upgrade any already-installed formulae\n",
      "brew upgrade\n",
      "\n",
      "# install python through HomeBrew\n",
      "\n",
      "pip install --upgrade setuptools\n",
      "pip install --upgrade distribute\n",
      "\n",
      "# bootstrap pip\n",
      "pip install --upgrade setuptools\n",
      "pip install --upgrade distribute\n",
      "\n",
      "# numpy et al\n",
      "brew install gcc\n",
      "brew install cmake\n",
      "brew install fftw\n",
      "brew install libtool\n",
      "brew install hdf5\n",
      "brew tap homebrew/science\n",
      "brew tap Homebrew/python\n",
      "pip install -U numexpr\n",
      "pip install -U cython\n",
      "pip install -U tables\n",
      "pip install -U pandas\n",
      "brew install numpy #--with-openblas\n",
      "brew test numpy\n",
      "\n",
      "# pylab\n",
      "brew install matplotlib --with-tex\n",
      "\n",
      "# mayavi\n",
      "brew install vtk5 --with-qt\n",
      "#brew install vtk --python\n",
      "#pip install traitsbackendqt\n",
      "pip install configobj\n",
      "pip install envisage\n",
      "pip install  \"Mayavi[app]\"\n",
      "# HDF export\n",
      "brew install hdf5\n",
      "pip install cython\n",
      "pip install numexpr\n",
      "pip install tables\n",
      "\n",
      "brew install wxpython\n",
      "pip install -U psychopy\n",
      "pip install pyprind\n",
      "\n",
      "\n",
      "# install online displaying tools\n",
      "pip install PyOpenGL PyOpenGL_accelerate\n",
      "pip install glumpy\n",
      "brew install --HEAD smpeg\n",
      "brew install pygame\n",
      "pip install hg+https://pyglet.googlecode.com/hg/\n",
      "pip install -U NeuroTools\n",
      "\n",
      "# convert\n",
      "brew install imagemagick\n",
      "brew install x264\n",
      "brew install ffmpeg\n",
      "\n",
      "# Remove outdated versions from the cellar\n",
      "brew cleanup"
     ],
     "language": "python",
     "metadata": {},
     "outputs": []
    },
    {
     "cell_type": "markdown",
     "metadata": {},
     "source": [
      "This was tested on several MacOsX/Mavericks 64bit machines."
     ]
    },
    {
     "cell_type": "markdown",
     "metadata": {},
     "source": [
      "## install on debian and friends"
     ]
    },
    {
     "cell_type": "markdown",
     "metadata": {},
     "source": [
      "An install script exists at :\n",
      "\n",
      "https://raw.githubusercontent.com/NeuralEnsemble/MotionClouds/master/install_dependencies_debian.sh\n",
      "\n",
      "Again, these line of code may be copy-and-pasted in your terminal."
     ]
    },
    {
     "cell_type": "code",
     "collapsed": false,
     "input": [
      "%load install_dependencies_debian.sh"
     ],
     "language": "python",
     "metadata": {},
     "outputs": [],
     "prompt_number": 4
    },
    {
     "cell_type": "code",
     "collapsed": false,
     "input": [
      "%%bash\n",
      "# installing dependencies on Debian for MotionClouds\n",
      "# --------------------------------------------------\n",
      "sudo apt-get install aptitude\n",
      "# it is always a good idea to update/upgrade your system before\n",
      "sudo aptitude update\n",
      "sudo aptitude upgrade\n",
      "\n",
      "# A script for the impatient:\n",
      "# uncomment to fit your installation preference\n",
      "# others should read the README.txt doc.\n",
      "\n",
      "\n",
      "# 1) minimal install\n",
      "\n",
      "# sudo aptitude install python-numpy\n",
      "\n",
      "\n",
      "# 2) minimal install with visualization and generation of documentation\n",
      "\n",
      "# sudo aptitude install python-numpy python-scipy mayavi2 python-matplotlib ffmpeg\n",
      "# sudo aptitude install texlive-latex-recommended  latexmk latexdiff\n",
      "\n",
      "\n",
      "# 3) full install with python editor and libraries for various export types\n",
      "\n",
      "sudo aptitude install python-numpy mayavi2 python-matplotlib spyder python-tables imagemagick texlive-latex-recommended latexmk latexdiff zip ipython psychopy\n",
      "# http://askubuntu.com/questions/432542/is-ffmpeg-missing-from-the-official-repositories-in-14-04\n",
      "sudo add-apt-repository ppa:mc3man/trusty-media\n",
      "sudo apt-get update\n",
      "sudo apt-get install ffmpeg\n",
      "\n",
      "pip install pyprind\n"
     ],
     "language": "python",
     "metadata": {},
     "outputs": []
    },
    {
     "cell_type": "markdown",
     "metadata": {},
     "source": [
      "This was tested on ubuntu 14.04 LTS and Debain squeezy 64bit machines."
     ]
    }
   ],
   "metadata": {}
  }
 ]
}